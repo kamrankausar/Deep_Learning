{
 "cells": [
  {
   "cell_type": "code",
   "execution_count": null,
   "metadata": {
    "collapsed": true
   },
   "outputs": [],
   "source": [
    "import httplib\n",
    "import urllib\n",
    "import base64\n",
    "import json\n",
    "import ijson\n",
    "import pandas as pd\n",
    "import numpy as np\n",
    "import requests\n",
    "import matplotlib.pyplot as plt\n",
    "%matplotlib inline\n",
    "\n",
    "# you have to sign up for an API key, which has some allowances. Check the API documentation for further details:\n",
    "_url = 'https://api.projectoxford.ai/emotion/v1.0/recognizeInVideo'\n",
    "_key = 'ea64a582cd2b489296e32b71f45f21c6' #Here you have to paste your primary key\n",
    "_maxNumRetries = 10\n"
   ]
  },
  {
   "cell_type": "code",
   "execution_count": null,
   "metadata": {
    "collapsed": true
   },
   "outputs": [],
   "source": [
    "paramsPost = urllib.urlencode({'outputStyle' : 'perFrame', 'file':'/Volumes/data/Movies/gots7.mp4'})\n",
    "\n",
    "headersPost = dict()\n",
    "headersPost['Ocp-Apim-Subscription-Key'] = _key\n",
    "headersPost['Content-Type'] = 'application/octet-stream'\n",
    "jsonGet={}\n",
    "headersGet = dict()\n",
    "headersGet['Ocp-Apim-Subscription-Key'] = _key\n",
    "paramsGet = urllib.urlencode({}) \n",
    "\n",
    "#Here I'm using a local file that I converted from a clip on youtube. You can also use a URL as well.\n",
    "responsePost = requests.request( 'post', _url + \"?\" + paramsPost, \\\n",
    "                                data = open('/Volumes/data/Movies/gots7.mp4','rb').read(), \\\n",
    "                                headers = headersPost)\n",
    "\n",
    "#A response code of 202 is what we're looking for.\n",
    "print responsePost.status_code\n"
   ]
  },
  {
   "cell_type": "code",
   "execution_count": null,
   "metadata": {
    "collapsed": true
   },
   "outputs": [],
   "source": [
    "videoIDLocation = responsePost.headers['Operation-Location']\n",
    "print videoIDLocation"
   ]
  },
  {
   "cell_type": "code",
   "execution_count": null,
   "metadata": {
    "collapsed": true
   },
   "outputs": [],
   "source": [
    "getResponse = requests.request( 'get', videoIDLocation, \\\n",
    "                                  data = None, headers = headersGet, params = paramsGet )\n",
    "\n",
    "rawData = json.loads(json.loads(getResponse.text)['processingResult'])\n"
   ]
  },
  {
   "cell_type": "code",
   "execution_count": null,
   "metadata": {
    "collapsed": true
   },
   "outputs": [],
   "source": [
    "#The data that the API returns is a mix of dictionaries and lists within dictionaries.\n",
    "#Because of this we have to do a little data munging to get it in a format we can work with.\n",
    "\n",
    "emotionPerFramePerFace = {}\n",
    "currFrameNum = 0\n",
    "\n",
    "for currFragment in rawData['fragments']:\n",
    "    if 'events' in currFragment:\n",
    "        for currEvent in currFragment['events']:\n",
    "            emotionPerFramePerFace[currFrameNum] = currEvent\n",
    "            currFrameNum += 1"
   ]
  },
  {
   "cell_type": "code",
   "execution_count": null,
   "metadata": {
    "collapsed": true
   },
   "outputs": [],
   "source": [
    "print emotionPerFramePerFace[0]"
   ]
  },
  {
   "cell_type": "code",
   "execution_count": null,
   "metadata": {
    "collapsed": true
   },
   "outputs": [],
   "source": [
    "#To get our data into a format that pandas can use we create a list of dictionaries. \n",
    "gotemotions = []\n",
    "for frame_no, v in emotionPerFramePerFace.copy().items():\n",
    "    for i, minidict in enumerate(v):\n",
    "        for k, v in minidict['scores'].items():\n",
    "            minidict[k] = v\n",
    "        minidict['frame'] = frame_no\n",
    "        gotemotions.append(minidict)"
   ]
  },
  {
   "cell_type": "code",
   "execution_count": null,
   "metadata": {
    "collapsed": true
   },
   "outputs": [],
   "source": [
    "dfgot = pd.DataFrame(gotemotions)"
   ]
  },
  {
   "cell_type": "code",
   "execution_count": null,
   "metadata": {
    "collapsed": true
   },
   "outputs": [],
   "source": [
    "dfgot.describe()"
   ]
  },
  {
   "cell_type": "code",
   "execution_count": 1,
   "metadata": {
    "collapsed": true
   },
   "outputs": [],
   "source": [
    "# It looks like we got our counts right. Below I removed the \"neutral\" column.\n",
    "# The neutral emotion had the highest average. I'd be interested to find out if\n",
    "# the API uses \"neutral\" if it can't really determine what emotion the face is displaying \n",
    "# and if the neutral score decreases as they tune their algorithm."
   ]
  },
  {
   "cell_type": "code",
   "execution_count": 3,
   "metadata": {},
   "outputs": [],
   "source": [
    "emotions = dfgot[['anger', 'contempt', 'disgust', 'fear', 'happiness', 'sadness', 'surprise']]\n",
    "emotions.head()"
   ]
  },
  {
   "cell_type": "code",
   "execution_count": null,
   "metadata": {
    "collapsed": true
   },
   "outputs": [],
   "source": [
    "avgemotion = emotions.mean()\n",
    "avg_plot = avgemotion.plot(kind='bar', legend=None, title='Avg. Emotions')\n",
    "avg_plot.set_xlabel('Emotions')\n",
    "avg_plot.set_ylabel('Score')"
   ]
  }
 ],
 "metadata": {
  "kernelspec": {
   "display_name": "Python 2",
   "language": "python",
   "name": "python2"
  },
  "language_info": {
   "codemirror_mode": {
    "name": "ipython",
    "version": 2
   },
   "file_extension": ".py",
   "mimetype": "text/x-python",
   "name": "python",
   "nbconvert_exporter": "python",
   "pygments_lexer": "ipython2",
   "version": "2.7.12"
  }
 },
 "nbformat": 4,
 "nbformat_minor": 2
}
